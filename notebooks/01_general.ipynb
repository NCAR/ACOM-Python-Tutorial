{
 "cells": [
  {
   "cell_type": "markdown",
   "metadata": {
    "slideshow": {
     "slide_type": "slide"
    }
   },
   "source": [
    "# General Python Information"
   ]
  },
  {
   "cell_type": "markdown",
   "metadata": {
    "slideshow": {
     "slide_type": "slide"
    }
   },
   "source": [
    "---"
   ]
  },
  {
   "cell_type": "markdown",
   "metadata": {
    "slideshow": {
     "slide_type": "subslide"
    }
   },
   "source": [
    "## \"What is currently available in Python libraries?\""
   ]
  },
  {
   "cell_type": "markdown",
   "metadata": {
    "slideshow": {
     "slide_type": "fragment"
    }
   },
   "source": [
    "There are two parts to this question:"
   ]
  },
  {
   "cell_type": "markdown",
   "metadata": {
    "slideshow": {
     "slide_type": "fragment"
    }
   },
   "source": [
    "- What packages _exist_ that are useful?"
   ]
  },
  {
   "cell_type": "markdown",
   "metadata": {
    "slideshow": {
     "slide_type": "fragment"
    }
   },
   "source": [
    "- What is the current _state_ of these packages?"
   ]
  },
  {
   "cell_type": "markdown",
   "metadata": {
    "slideshow": {
     "slide_type": "subslide"
    }
   },
   "source": [
    "### What packages _exist_ that are useful?"
   ]
  },
  {
   "cell_type": "markdown",
   "metadata": {
    "slideshow": {
     "slide_type": "fragment"
    }
   },
   "source": [
    "Python has a _huge_ number of packages out there for data analysis and computation."
   ]
  },
  {
   "cell_type": "markdown",
   "metadata": {
    "slideshow": {
     "slide_type": "fragment"
    }
   },
   "source": [
    "There are lots to consider when selecting what packages you use, such as _scalability_ and _portability_."
   ]
  },
  {
   "cell_type": "markdown",
   "metadata": {
    "slideshow": {
     "slide_type": "subslide"
    }
   },
   "source": [
    "Personally, I recommend the _Pangeo_ software stack, based on:\n",
    "\n",
    "- [xarray](http://xarray.pydata.org/en/stable/): CDF-like data model (can read and write NetCDF files)\n",
    "- [dask/distributed](https://dask.org/): To easily parallelize `xarray` workflows\n",
    "- [Jupyter](https://jupyterlab.readthedocs.io/en/stable/): A browser-based, \"terminal\"-like interface with nice graphics capabilities"
   ]
  },
  {
   "cell_type": "markdown",
   "metadata": {
    "slideshow": {
     "slide_type": "subslide"
    }
   },
   "source": [
    "Other packages provide additional useful capabilities, such as:\n",
    "\n",
    "- [matplotlib](https://matplotlib.org/): For general plotting capabilities\n",
    "- [cartopy](https://scitools.org.uk/cartopy/docs/latest/): For plotting data on map projections\n",
    "- [geoviews](http://geoviews.org/): For simple, concise geographical visualization\n",
    "- [esmlab](https://esmlab.readthedocs.io/en/latest/): NCAR package built on `xarray` to provide common statistics, climatology, and anomaly computation\n",
    "- [intake/intake-esm](https://intake-esm.readthedocs.io/en/latest/): For easily \"getting\" CESM and CMIP data into `xarray` data structures"
   ]
  },
  {
   "cell_type": "markdown",
   "metadata": {
    "slideshow": {
     "slide_type": "subslide"
    }
   },
   "source": [
    "More packages are on the horizon.  For example, the NCL team is \"pivoting\" to Python (codename `Skylab`)."
   ]
  },
  {
   "cell_type": "markdown",
   "metadata": {
    "slideshow": {
     "slide_type": "subslide"
    }
   },
   "source": [
    "### What is the current _state_ of these packages?"
   ]
  },
  {
   "cell_type": "markdown",
   "metadata": {
    "slideshow": {
     "slide_type": "fragment"
    }
   },
   "source": [
    "...Well, that's what this tutorial is all about."
   ]
  },
  {
   "cell_type": "markdown",
   "metadata": {
    "slideshow": {
     "slide_type": "subslide"
    }
   },
   "source": [
    "---\n",
    "## \"Which statistics packages are available in Python?\""
   ]
  },
  {
   "cell_type": "code",
   "execution_count": null,
   "metadata": {
    "slideshow": {
     "slide_type": "fragment"
    }
   },
   "outputs": [],
   "source": []
  },
  {
   "cell_type": "code",
   "execution_count": null,
   "metadata": {
    "slideshow": {
     "slide_type": "fragment"
    }
   },
   "outputs": [],
   "source": []
  },
  {
   "cell_type": "markdown",
   "metadata": {
    "slideshow": {
     "slide_type": "subslide"
    }
   },
   "source": [
    "---\n",
    "## \"How to install external python libs on my laptop / desktop?\""
   ]
  },
  {
   "cell_type": "markdown",
   "metadata": {
    "slideshow": {
     "slide_type": "fragment"
    }
   },
   "source": [
    " To best way to get the scientific Python environment is using the [Conda package management system](https://conda.io/docs/). Please follow the [official installation guide](https://conda.io/projects/conda/en/latest/user-guide/install/index.html) for installing on \n",
    " - Linux: https://conda.io/projects/conda/en/latest/user-guide/install/linux.html\n",
    " - Mac: https://conda.io/projects/conda/en/latest/user-guide/install/macos.html\n",
    " - Windows: https://conda.io/projects/conda/en/latest/user-guide/install/windows.html\n",
    " \n",
    "Linux/Mac also comes with a system Python (/usr/bin/python). Don't touch that. Windows users might find the full Anaconda (Conda plus tons of packages) with graphical interface easier to use than the command line.\n",
    "\n",
    "After installation, check the paths:\n",
    "\n",
    "```bash\n",
    "$ which conda python\n",
    ".../miniconda3/bin/conda\n",
    ".../miniconda3/bin/python\n",
    "```"
   ]
  },
  {
   "cell_type": "code",
   "execution_count": null,
   "metadata": {
    "slideshow": {
     "slide_type": "fragment"
    }
   },
   "outputs": [],
   "source": []
  }
 ],
 "metadata": {
  "celltoolbar": "Slideshow",
  "kernelspec": {
   "display_name": "Python 3",
   "language": "python",
   "name": "python3"
  },
  "language_info": {
   "codemirror_mode": {
    "name": "ipython",
    "version": 3
   },
   "file_extension": ".py",
   "mimetype": "text/x-python",
   "name": "python",
   "nbconvert_exporter": "python",
   "pygments_lexer": "ipython3",
   "version": "3.7.3"
  }
 },
 "nbformat": 4,
 "nbformat_minor": 2
}
