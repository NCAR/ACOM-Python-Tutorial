{
 "cells": [
  {
   "cell_type": "markdown",
   "metadata": {},
   "source": [
    "# Other"
   ]
  },
  {
   "cell_type": "markdown",
   "metadata": {},
   "source": [
    "## Jupyter notebooks browser to run on Casper"
   ]
  },
  {
   "cell_type": "markdown",
   "metadata": {},
   "source": [
    "This is coming soon!  We've been told to expect a trial in a week or two.  More development will be coming in the next year."
   ]
  },
  {
   "cell_type": "markdown",
   "metadata": {},
   "source": [
    "## Modifying netCDF files as can be done with NCO"
   ]
  },
  {
   "cell_type": "markdown",
   "metadata": {},
   "source": [
    "This is not really the normal pattern of work that we use Python for, unfortunately.  However, NCO is not going away any time soon.  (Nor is NCL, either.  New updates of NCL are the only things that will not be coming.)"
   ]
  },
  {
   "cell_type": "markdown",
   "metadata": {},
   "source": [
    "## Adding shell script commands into python"
   ]
  },
  {
   "cell_type": "markdown",
   "metadata": {},
   "source": [
    "This is a common question."
   ]
  },
  {
   "cell_type": "markdown",
   "metadata": {},
   "source": [
    "### Jupyter"
   ]
  },
  {
   "cell_type": "markdown",
   "metadata": {},
   "source": [
    "In Jupyter, you can use the `%%bash` \"magic command\" to turn a cell into a \"Bash cell\".  And you can execute your bash commands that way."
   ]
  },
  {
   "cell_type": "markdown",
   "metadata": {},
   "source": [
    "For example, try the next cell:"
   ]
  },
  {
   "cell_type": "code",
   "execution_count": 2,
   "metadata": {},
   "outputs": [
    {
     "name": "stdout",
     "output_type": "stream",
     "text": [
      "1\n",
      "2\n",
      "3\n",
      "4\n",
      "5\n",
      "6\n",
      "7\n",
      "8\n",
      "9\n",
      "10\n"
     ]
    }
   ],
   "source": [
    "%%bash\n",
    "for i in $(seq 10); do\n",
    "  echo $i\n",
    "done"
   ]
  },
  {
   "cell_type": "markdown",
   "metadata": {},
   "source": [
    "Just be careful about your PATH when using the Cheyenne JupyterHub..."
   ]
  },
  {
   "cell_type": "code",
   "execution_count": 4,
   "metadata": {},
   "outputs": [
    {
     "name": "stdout",
     "output_type": "stream",
     "text": [
      "/opt/pbs/bin:/ncar/usr/jupyterhub/20190118/bin:/glade/u/apps/ch/opt/lmod/7.2.1/bin:/usr/sbin:/usr/bin:/sbin:/bin\n"
     ]
    }
   ],
   "source": [
    "%%bash\n",
    "echo $PATH"
   ]
  },
  {
   "cell_type": "markdown",
   "metadata": {},
   "source": [
    "### In Python..."
   ]
  },
  {
   "cell_type": "markdown",
   "metadata": {},
   "source": [
    "In Python, if you need to make a system call, then you should use the `subprocess` package."
   ]
  },
  {
   "cell_type": "code",
   "execution_count": 12,
   "metadata": {},
   "outputs": [
    {
     "name": "stdout",
     "output_type": "stream",
     "text": [
      "total 320\n",
      "-rw-r--r-- 1 kpaul ncar  5137 May 15 09:12 00_overview.ipynb\n",
      "-rw-r--r-- 1 kpaul ncar  7469 May 15 07:09 01_general.ipynb\n",
      "-rw-r--r-- 1 kpaul ncar 17835 May 15 08:53 02_plotting.ipynb\n",
      "-rw-r--r-- 1 kpaul ncar  6013 May 15 08:20 03_calculation.ipynb\n",
      "-rw-r--r-- 1 kpaul ncar  4082 May 15 09:37 04_other.ipynb\n",
      "\n"
     ]
    }
   ],
   "source": [
    "import subprocess\n",
    "\n",
    "p = subprocess.run(['ls', '-l'], capture_output=True)\n",
    "print(p.stdout.decode('utf8'))"
   ]
  },
  {
   "cell_type": "markdown",
   "metadata": {},
   "source": [
    "Read more about the `subprocess` module for more details."
   ]
  },
  {
   "cell_type": "markdown",
   "metadata": {},
   "source": [
    "## Calling Fortran routines from within python"
   ]
  },
  {
   "cell_type": "markdown",
   "metadata": {},
   "source": [
    "The main tool that exists for this is F2PY, a tool that comes with NumPy."
   ]
  },
  {
   "cell_type": "markdown",
   "metadata": {},
   "source": [
    "Imagine a Fortran 77 subroutine like follows, in a file called `fib1.f`:"
   ]
  },
  {
   "cell_type": "markdown",
   "metadata": {},
   "source": [
    "```fortran\n",
    "C FILE: FIB1.F\n",
    "      SUBROUTINE FIB(A,N)\n",
    "C\n",
    "C     CALCULATE FIRST N FIBONACCI NUMBERS\n",
    "C\n",
    "      INTEGER N\n",
    "      REAL*8 A(N)\n",
    "      DO I=1,N\n",
    "         IF (I.EQ.1) THEN\n",
    "            A(I) = 0.0D0\n",
    "         ELSEIF (I.EQ.2) THEN\n",
    "            A(I) = 1.0D0\n",
    "         ELSE \n",
    "            A(I) = A(I-1) + A(I-2)\n",
    "         ENDIF\n",
    "      ENDDO\n",
    "      END\n",
    "C END FILE FIB1.F\n",
    "```"
   ]
  },
  {
   "cell_type": "markdown",
   "metadata": {},
   "source": [
    "You can compile this and turn it into an importable module with:\n",
    "\n",
    "```bash\n",
    "python -m numpy.f2py -c fib1.f -m fib1\n",
    "```"
   ]
  },
  {
   "cell_type": "markdown",
   "metadata": {},
   "source": [
    "And then you can import the `fib1` module into your Python code:\n",
    "\n",
    "```python\n",
    "import numpy\n",
    "import fib1\n",
    "\n",
    "a = numpy.zeros(8,'d')\n",
    "fib1.fib(a)\n",
    "```"
   ]
  },
  {
   "cell_type": "code",
   "execution_count": null,
   "metadata": {},
   "outputs": [],
   "source": []
  }
 ],
 "metadata": {
  "kernelspec": {
   "display_name": "Python 3",
   "language": "python",
   "name": "python3"
  },
  "language_info": {
   "codemirror_mode": {
    "name": "ipython",
    "version": 3
   },
   "file_extension": ".py",
   "mimetype": "text/x-python",
   "name": "python",
   "nbconvert_exporter": "python",
   "pygments_lexer": "ipython3",
   "version": "3.7.2"
  }
 },
 "nbformat": 4,
 "nbformat_minor": 2
}
