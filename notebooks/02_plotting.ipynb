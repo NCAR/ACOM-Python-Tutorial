{
 "cells": [
  {
   "cell_type": "markdown",
   "metadata": {},
   "source": [
    "# Plotting CESM output\n",
    "Maps of CESM output (chemical compounds)\n",
    "Maps of CESM-SE output, and regional refinement projections\n",
    "Zonal average contour plots (including calculating ZA)\n",
    "Difference maps - how to choose different color bars\n",
    "Panel map plots with different legends\n",
    "Box-plots (percentiles)\n",
    "Polar graph (e.g. wind rose)\n",
    "Multi-panel graph (customizing sizes and locations of each panel)\n",
    "Add flow stream lines on contour map\n",
    "\n",
    "# Plotting other things\n",
    "Plots of model results with aircraft observations on top (maps, curtains)\n"
   ]
  }
 ],
 "metadata": {
  "kernelspec": {
   "display_name": "Python 3",
   "language": "python",
   "name": "python3"
  },
  "language_info": {
   "codemirror_mode": {
    "name": "ipython",
    "version": 3
   },
   "file_extension": ".py",
   "mimetype": "text/x-python",
   "name": "python",
   "nbconvert_exporter": "python",
   "pygments_lexer": "ipython3",
   "version": "3.7.3"
  }
 },
 "nbformat": 4,
 "nbformat_minor": 2
}
