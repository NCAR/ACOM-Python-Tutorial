{
 "cells": [
  {
   "cell_type": "markdown",
   "metadata": {},
   "source": [
    "# Plotting CESM Output\n",
    "\n",
    "Contents:\n",
    "- Maps of CESM output (chemical compounds)\n",
    "- Maps of CESM-SE output, and regional refinement projections\n",
    "- Zonal average contour plots (including calculating ZA)\n",
    "- Difference maps - how to choose different color bars\n",
    "- Panel map plots with different legends\n",
    "- Box-plots (percentiles)\n",
    "- Polar graph (e.g. wind rose)\n",
    "- Multi-panel graph (customizing sizes and locations of each panel)\n",
    "- Add flow stream lines on contour map"
   ]
  },
  {
   "cell_type": "markdown",
   "metadata": {},
   "source": [
    "---"
   ]
  },
  {
   "cell_type": "markdown",
   "metadata": {},
   "source": [
    "## Let's read some CESM and CESM-SE data\n",
    "\n",
    "To do this, we need to install `xarray`, `intake`, and `intake-esm`."
   ]
  },
  {
   "cell_type": "code",
   "execution_count": 3,
   "metadata": {},
   "outputs": [
    {
     "name": "stdout",
     "output_type": "stream",
     "text": [
      "Collecting package metadata: ...working... done\n",
      "Solving environment: ...working... done\n",
      "\n",
      "## Package Plan ##\n",
      "\n",
      "  environment location: /Users/kpaul/Software/miniconda3/envs/ACOM-Python-Tutorial\n",
      "\n",
      "  added / updated specs:\n",
      "    - intake\n",
      "    - intake-esm\n",
      "    - xarray\n",
      "\n",
      "\n",
      "The following packages will be downloaded:\n",
      "\n",
      "    package                    |            build\n",
      "    ---------------------------|-----------------\n",
      "    appdirs-1.4.3              |             py_1          11 KB  conda-forge\n",
      "    cftime-1.0.3.4             |py37h917ab60_1000         250 KB  conda-forge\n",
      "    hdf5-1.10.4                |nompi_h0cbb7df_1106         4.5 MB  conda-forge\n",
      "    intake-0.4.4               |             py_0         2.5 MB  conda-forge\n",
      "    intake-esm-2019.2.28       |             py_1          14 KB  conda-forge\n",
      "    intake-xarray-0.3.0        |             py_0          17 KB  conda-forge\n",
      "    msgpack-numpy-0.4.4.2      |             py_1          10 KB  conda-forge\n",
      "    netcdf4-1.5.0.1            |   py37h58b02fa_0         451 KB  conda-forge\n",
      "    numcodecs-0.6.3            |   py37h0a44026_0         777 KB  conda-forge\n",
      "    python-snappy-0.5.4        |   py37h1e06ddd_0          27 KB  conda-forge\n",
      "    ruamel-1.0                 |           py37_0           4 KB  conda-forge\n",
      "    ruamel.yaml-0.15.94        |   py37h01d97ff_0         293 KB  conda-forge\n",
      "    snappy-1.1.7               |    h0a44026_1002          40 KB  conda-forge\n",
      "    zarr-2.3.1                 |           py37_0         223 KB  conda-forge\n",
      "    ------------------------------------------------------------\n",
      "                                           Total:         9.1 MB\n",
      "\n",
      "The following NEW packages will be INSTALLED:\n",
      "\n",
      "  appdirs            conda-forge/noarch::appdirs-1.4.3-py_1\n",
      "  asciitree          conda-forge/noarch::asciitree-0.3.3-py_2\n",
      "  asn1crypto         conda-forge/osx-64::asn1crypto-0.24.0-py37_1003\n",
      "  bokeh              conda-forge/osx-64::bokeh-1.1.0-py37_0\n",
      "  cffi               conda-forge/osx-64::cffi-1.12.3-py37hccf1714_0\n",
      "  cftime             conda-forge/osx-64::cftime-1.0.3.4-py37h917ab60_1000\n",
      "  chardet            conda-forge/osx-64::chardet-3.0.4-py37_1003\n",
      "  click              conda-forge/noarch::click-7.0-py_0\n",
      "  cloudpickle        conda-forge/noarch::cloudpickle-0.8.1-py_0\n",
      "  cryptography       conda-forge/osx-64::cryptography-2.6.1-py37h212c5bf_0\n",
      "  curl               conda-forge/osx-64::curl-7.64.1-h22ea746_0\n",
      "  cytoolz            conda-forge/osx-64::cytoolz-0.9.0.1-py37h470a237_1\n",
      "  dask               conda-forge/noarch::dask-1.2.0-py_0\n",
      "  dask-core          conda-forge/noarch::dask-core-1.2.0-py_0\n",
      "  distributed        conda-forge/osx-64::distributed-1.27.0-py37_0\n",
      "  fasteners          conda-forge/noarch::fasteners-0.14.1-py_3\n",
      "  freetype           conda-forge/osx-64::freetype-2.10.0-h24853df_0\n",
      "  hdf4               conda-forge/osx-64::hdf4-4.2.13-hf3c6af0_1002\n",
      "  hdf5               conda-forge/osx-64::hdf5-1.10.4-nompi_h0cbb7df_1106\n",
      "  heapdict           conda-forge/osx-64::heapdict-1.0.0-py37_1000\n",
      "  idna               conda-forge/osx-64::idna-2.8-py37_1000\n",
      "  intake             conda-forge/noarch::intake-0.4.4-py_0\n",
      "  intake-esm         conda-forge/noarch::intake-esm-2019.2.28-py_1\n",
      "  intake-xarray      conda-forge/noarch::intake-xarray-0.3.0-py_0\n",
      "  jpeg               conda-forge/osx-64::jpeg-9c-h1de35cc_1001\n",
      "  krb5               conda-forge/osx-64::krb5-1.16.3-hcfa6398_1001\n",
      "  libblas            conda-forge/osx-64::libblas-3.8.0-6_openblas\n",
      "  libcblas           conda-forge/osx-64::libcblas-3.8.0-6_openblas\n",
      "  libcurl            conda-forge/osx-64::libcurl-7.64.1-h16faf7d_0\n",
      "  libedit            conda-forge/osx-64::libedit-3.1.20170329-hcfe32e1_1001\n",
      "  libgfortran        conda-forge/osx-64::libgfortran-3.0.1-0\n",
      "  liblapack          conda-forge/osx-64::liblapack-3.8.0-6_openblas\n",
      "  libnetcdf          conda-forge/osx-64::libnetcdf-4.6.2-h6b88ef6_1001\n",
      "  libpng             conda-forge/osx-64::libpng-1.6.37-h2573ce8_0\n",
      "  libssh2            conda-forge/osx-64::libssh2-1.8.2-hcdc9a53_2\n",
      "  libtiff            conda-forge/osx-64::libtiff-4.0.10-h79f4b77_1001\n",
      "  locket             conda-forge/noarch::locket-0.2.0-py_2\n",
      "  monotonic          conda-forge/noarch::monotonic-1.5-py_0\n",
      "  msgpack-numpy      conda-forge/noarch::msgpack-numpy-0.4.4.2-py_1\n",
      "  msgpack-python     conda-forge/osx-64::msgpack-python-0.6.1-py37h04f5b5a_0\n",
      "  netcdf4            conda-forge/osx-64::netcdf4-1.5.0.1-py37h58b02fa_0\n",
      "  numcodecs          conda-forge/osx-64::numcodecs-0.6.3-py37h0a44026_0\n",
      "  numpy              conda-forge/osx-64::numpy-1.16.3-py37hdf140aa_0\n",
      "  olefile            conda-forge/noarch::olefile-0.46-py_0\n",
      "  openblas           conda-forge/osx-64::openblas-0.3.5-h436c29b_1001\n",
      "  packaging          conda-forge/noarch::packaging-19.0-py_0\n",
      "  pandas             conda-forge/osx-64::pandas-0.24.2-py37h0a44026_0\n",
      "  partd              conda-forge/noarch::partd-0.3.9-py_0\n",
      "  pillow             conda-forge/osx-64::pillow-6.0.0-py37h7095ceb_0\n",
      "  psutil             conda-forge/osx-64::psutil-5.6.1-py37h1de35cc_0\n",
      "  pycparser          conda-forge/osx-64::pycparser-2.19-py37_1\n",
      "  pyopenssl          conda-forge/osx-64::pyopenssl-19.0.0-py37_0\n",
      "  pyparsing          conda-forge/noarch::pyparsing-2.4.0-py_0\n",
      "  pysocks            conda-forge/osx-64::pysocks-1.6.8-py37_1002\n",
      "  python-snappy      conda-forge/osx-64::python-snappy-0.5.4-py37h1e06ddd_0\n",
      "  pytz               conda-forge/noarch::pytz-2019.1-py_0\n",
      "  pyyaml             conda-forge/osx-64::pyyaml-5.1-py37h1de35cc_0\n",
      "  requests           conda-forge/osx-64::requests-2.21.0-py37_1000\n",
      "  ruamel             conda-forge/osx-64::ruamel-1.0-py37_0\n",
      "  ruamel.yaml        conda-forge/osx-64::ruamel.yaml-0.15.94-py37h01d97ff_0\n",
      "  snappy             conda-forge/osx-64::snappy-1.1.7-h0a44026_1002\n",
      "  sortedcontainers   conda-forge/noarch::sortedcontainers-2.1.0-py_0\n",
      "  tblib              conda-forge/noarch::tblib-1.3.2-py_1\n",
      "  toolz              conda-forge/noarch::toolz-0.9.0-py_1\n",
      "  urllib3            conda-forge/osx-64::urllib3-1.24.2-py37_0\n",
      "  xarray             conda-forge/noarch::xarray-0.12.1-py_0\n",
      "  yaml               conda-forge/osx-64::yaml-0.1.7-h1de35cc_1001\n",
      "  zarr               conda-forge/osx-64::zarr-2.3.1-py37_0\n",
      "  zict               conda-forge/noarch::zict-0.1.4-py_0\n",
      "\n",
      "\n",
      "Proceed ([y]/n)? \n",
      "\n",
      "Downloading and Extracting Packages\n",
      "hdf5-1.10.4          | 4.5 MB    | ########## | 100% \n",
      "ruamel-1.0           | 4 KB      | ########## | 100% \n",
      "appdirs-1.4.3        | 11 KB     | ########## | 100% \n",
      "zarr-2.3.1           | 223 KB    | ########## | 100% \n",
      "cftime-1.0.3.4       | 250 KB    | ########## | 100% \n",
      "snappy-1.1.7         | 40 KB     | ########## | 100% \n",
      "numcodecs-0.6.3      | 777 KB    | ########## | 100% \n",
      "intake-xarray-0.3.0  | 17 KB     | ########## | 100% \n",
      "msgpack-numpy-0.4.4. | 10 KB     | ########## | 100% \n",
      "intake-0.4.4         | 2.5 MB    | ########## | 100% \n",
      "python-snappy-0.5.4  | 27 KB     | ########## | 100% \n",
      "intake-esm-2019.2.28 | 14 KB     | ########## | 100% \n",
      "ruamel.yaml-0.15.94  | 293 KB    | ########## | 100% \n",
      "netcdf4-1.5.0.1      | 451 KB    | ########## | 100% \n",
      "Preparing transaction: ...working... done\n",
      "Verifying transaction: ...working... done\n",
      "Executing transaction: ...working... done\n"
     ]
    }
   ],
   "source": [
    "%%bash\n",
    "conda install -y xarray intake intake-esm"
   ]
  },
  {
   "cell_type": "code",
   "execution_count": 4,
   "metadata": {},
   "outputs": [],
   "source": [
    "import intake"
   ]
  },
  {
   "cell_type": "code",
   "execution_count": null,
   "metadata": {},
   "outputs": [],
   "source": []
  },
  {
   "cell_type": "markdown",
   "metadata": {},
   "source": [
    "---"
   ]
  },
  {
   "cell_type": "markdown",
   "metadata": {},
   "source": [
    "# Plotting other things\n",
    "Plots of model results with aircraft observations on top (maps, curtains)"
   ]
  }
 ],
 "metadata": {
  "kernelspec": {
   "display_name": "Python 3",
   "language": "python",
   "name": "python3"
  },
  "language_info": {
   "codemirror_mode": {
    "name": "ipython",
    "version": 3
   },
   "file_extension": ".py",
   "mimetype": "text/x-python",
   "name": "python",
   "nbconvert_exporter": "python",
   "pygments_lexer": "ipython3",
   "version": "3.7.3"
  }
 },
 "nbformat": 4,
 "nbformat_minor": 2
}
