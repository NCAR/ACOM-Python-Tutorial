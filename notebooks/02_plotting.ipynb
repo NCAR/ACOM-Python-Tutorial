{
 "cells": [
  {
   "cell_type": "markdown",
   "metadata": {},
   "source": [
    "# Plotting CESM Output\n",
    "\n",
    "Contents:\n",
    "- Maps of CESM output (chemical compounds)\n",
    "- Maps of CESM-SE output, and regional refinement projections\n",
    "- Zonal average contour plots (including calculating ZA)\n",
    "- Difference maps - how to choose different color bars\n",
    "- Panel map plots with different legends\n",
    "- Box-plots (percentiles)\n",
    "- Polar graph (e.g. wind rose) [missing]\n",
    "- Multi-panel graph (customizing sizes and locations of each panel)\n",
    "- Add flow stream lines on contour map [missing]"
   ]
  },
  {
   "cell_type": "markdown",
   "metadata": {},
   "source": [
    "---"
   ]
  },
  {
   "cell_type": "markdown",
   "metadata": {},
   "source": [
    "## Let's read some CESM and CESM-SE data\n",
    "\n",
    "To do this, we need to use `xarray`."
   ]
  },
  {
   "cell_type": "code",
   "execution_count": null,
   "metadata": {},
   "outputs": [],
   "source": [
    "import warnings\n",
    "warnings.simplefilter(\"ignore\") # Silence warnings\n",
    "%matplotlib inline\n",
    "import xarray as xr\n",
    "import numpy as np"
   ]
  },
  {
   "cell_type": "markdown",
   "metadata": {},
   "source": [
    "And now lets read CAM-chem on SE ne30 grid from GLADE."
   ]
  },
  {
   "cell_type": "code",
   "execution_count": null,
   "metadata": {},
   "outputs": [],
   "source": [
    "file_pattern = \"/glade/scratch/emmons/PYTHON_TUTORIAL/f.e20.FCHIST.ne30_ne30_mg17.cam6_1_019.GEOS5_nudged.next_obs.timescale0.cam.h1.2013-*.nc\"\n",
    "ds = xr.open_mfdataset(file_pattern).load()"
   ]
  },
  {
   "cell_type": "code",
   "execution_count": null,
   "metadata": {},
   "outputs": [],
   "source": [
    "ds"
   ]
  },
  {
   "cell_type": "code",
   "execution_count": null,
   "metadata": {},
   "outputs": [],
   "source": [
    "# Set all invariant variables to be coords.\n",
    "invariants = [v for v in ds.variables if not {'ncol', 'time'}.issubset(set(ds[v].dims))]\n",
    "invariants.extend(['lat', 'lon', 'area'])\n",
    "print(invariants)"
   ]
  },
  {
   "cell_type": "code",
   "execution_count": null,
   "metadata": {},
   "outputs": [],
   "source": [
    "ds = ds.set_coords(invariants)\n",
    "ds"
   ]
  },
  {
   "cell_type": "markdown",
   "metadata": {},
   "source": [
    "# Visualizing unstructured data"
   ]
  },
  {
   "cell_type": "markdown",
   "metadata": {},
   "source": [
    "Here we show how to visualize data on an unstructure grid using `cartopy` and `matplotlib`. To plot this dataset, we will need to read the topology of the dataset into a triangular mesh using `matplotlib`."
   ]
  },
  {
   "cell_type": "markdown",
   "metadata": {},
   "source": [
    "First, let's transform longitude values from 0 - 360 range to -180 - 180 range"
   ]
  },
  {
   "cell_type": "code",
   "execution_count": null,
   "metadata": {},
   "outputs": [],
   "source": [
    "ds.lon.data.min(), ds.lon.data.max()"
   ]
  },
  {
   "cell_type": "code",
   "execution_count": null,
   "metadata": {},
   "outputs": [],
   "source": [
    "lons = np.mod(ds.lon.data[0] - 180.0, 360.0) - 180.0\n",
    "lons.min(), lons.max()"
   ]
  },
  {
   "cell_type": "code",
   "execution_count": null,
   "metadata": {},
   "outputs": [],
   "source": [
    "lats = ds.lat.data[0]\n",
    "print(lons.shape, lats.shape)"
   ]
  },
  {
   "cell_type": "code",
   "execution_count": null,
   "metadata": {},
   "outputs": [],
   "source": [
    "import matplotlib.tri as tri\n",
    "import matplotlib as mpl"
   ]
  },
  {
   "cell_type": "code",
   "execution_count": null,
   "metadata": {},
   "outputs": [],
   "source": [
    "triang = tri.Triangulation(lons, lats)"
   ]
  },
  {
   "cell_type": "markdown",
   "metadata": {},
   "source": [
    "Matplotlib just created an unstructured triangular grid consisting of npoints points and\n",
    "ntri triangles. Since we didn't specify the indices of the three points that make\n",
    "up the triangle, matpotlib automatically generates triangles using a [Delaunay triangulation](https://en.wikipedia.org/wiki/Delaunay_triangulation)."
   ]
  },
  {
   "cell_type": "code",
   "execution_count": null,
   "metadata": {},
   "outputs": [],
   "source": [
    "triang.edges.shape"
   ]
  },
  {
   "cell_type": "code",
   "execution_count": null,
   "metadata": {},
   "outputs": [],
   "source": [
    "triang.edges"
   ]
  },
  {
   "cell_type": "markdown",
   "metadata": {},
   "source": [
    "Let's get one sample from the dataset to look at"
   ]
  },
  {
   "cell_type": "code",
   "execution_count": null,
   "metadata": {},
   "outputs": [],
   "source": [
    "sample = ds.isel(ilev=slice(0,2), lev=0, time=slice(0, 1))[['O3']]\n",
    "sample"
   ]
  },
  {
   "cell_type": "code",
   "execution_count": null,
   "metadata": {},
   "outputs": [],
   "source": [
    "sample['O3'].data.flatten().shape"
   ]
  },
  {
   "cell_type": "markdown",
   "metadata": {},
   "source": [
    "### Matplotlib & Cartopy"
   ]
  },
  {
   "cell_type": "code",
   "execution_count": null,
   "metadata": {},
   "outputs": [],
   "source": [
    "import cartopy.crs as ccrs\n",
    "import matplotlib.pyplot as plt\n",
    "from cartopy.mpl.gridliner import LONGITUDE_FORMATTER, LATITUDE_FORMATTER"
   ]
  },
  {
   "cell_type": "code",
   "execution_count": null,
   "metadata": {},
   "outputs": [],
   "source": [
    "def make_quick_map():\n",
    "    fig, ax = plt.subplots(figsize=(16, 9), subplot_kw=dict(projection=ccrs.PlateCarree()))\n",
    "    ax.coastlines(resolution='50m')\n",
    "    gl = ax.gridlines(draw_labels=True)\n",
    "    gl.xlabels_top = gl.ylabels_right = False\n",
    "    gl.xformatter = LONGITUDE_FORMATTER\n",
    "    gl.yformatter = LATITUDE_FORMATTER\n",
    "    return fig, ax"
   ]
  },
  {
   "cell_type": "code",
   "execution_count": null,
   "metadata": {},
   "outputs": [],
   "source": [
    "make_quick_map()"
   ]
  },
  {
   "cell_type": "code",
   "execution_count": null,
   "metadata": {},
   "outputs": [],
   "source": [
    "fig, ax = make_quick_map()\n",
    "ax.tripcolor(triang, sample['O3'].values.flatten(), cmap='YlGn')\n",
    "ax.coastlines()"
   ]
  },
  {
   "cell_type": "markdown",
   "metadata": {},
   "source": [
    "Let's generalize our plotting utility function so that we can plot arbitrary data points"
   ]
  },
  {
   "cell_type": "code",
   "execution_count": null,
   "metadata": {},
   "outputs": [],
   "source": [
    "def make_map(nrows, ncols, lat, lon):\n",
    "    fig, axes = plt.subplots(nrows=nrows, ncols=ncols, figsize=(16, 9),\n",
    "                             subplot_kw=dict(projection=ccrs.PlateCarree()), sharex=True, sharey=True)\n",
    "    for row in range(nrows):\n",
    "        for col in range(ncols):\n",
    "            axes[row][col].coastlines(resolution='50m')\n",
    "            gl = axes[row][col].gridlines(draw_labels=True)\n",
    "            gl.xlabels_top = gl.ylabels_right = False\n",
    "            gl.xformatter = LONGITUDE_FORMATTER\n",
    "            gl.yformatter = LATITUDE_FORMATTER\n",
    "            axes[row][col].set_aspect('equal')       \n",
    "    triang = tri.Triangulation(lon, lat)\n",
    "    return fig, axes, triang"
   ]
  },
  {
   "cell_type": "code",
   "execution_count": null,
   "metadata": {},
   "outputs": [],
   "source": [
    "def map_plotter(ds, data_var, nrows, ncols, lats, lons, lev_idx=0, cmap='gist_ncar'):\n",
    "    sample = ds.isel(lev=lev_idx, time=slice(0, nrows*ncols))[[data_var]]\n",
    "    fig, axes, triang = make_map(nrows, ncols, lats, lons)\n",
    "    idxs = nrows * ncols\n",
    "    for row in range(nrows):\n",
    "        for col in range(ncols):\n",
    "            idx = row * ncols + col\n",
    "            tcp = axes[row][col].tripcolor(triang, sample[data_var].isel(time=idx).values.flatten(), cmap=cmap)\n",
    "            axes[row][col].set_title(f'time={str(sample.time.values[idx])}')\n",
    "    cax, kw = mpl.colorbar.make_axes([ax for ax in axes.flat])\n",
    "    fig.suptitle(f'{sample[data_var].long_name} \\n @ {sample.lev.long_name}={sample.lev.values} {sample.lev.units}', fontsize=20)\n",
    "    fig.colorbar(tcp, cax=cax, label=f'units={sample[data_var].units}', **kw)"
   ]
  },
  {
   "cell_type": "code",
   "execution_count": null,
   "metadata": {},
   "outputs": [],
   "source": [
    "# Plot Ozone concentration from 12 time steps, at lev with index=10\n",
    "map_plotter(ds, 'O3', 4, 3, lats, lons, lev_idx=10)"
   ]
  },
  {
   "cell_type": "code",
   "execution_count": null,
   "metadata": {},
   "outputs": [],
   "source": [
    "# Plot NO2 concentration from 4 time steps at lev with index=20\n",
    "map_plotter(ds, 'NO2', 2, 2, lats, lons, lev_idx=20)"
   ]
  },
  {
   "cell_type": "code",
   "execution_count": null,
   "metadata": {},
   "outputs": [],
   "source": [
    "map_plotter(ds, 'NO', 2, 2, lats, lons, lev_idx=30)"
   ]
  },
  {
   "cell_type": "code",
   "execution_count": null,
   "metadata": {},
   "outputs": [],
   "source": [
    "map_plotter(ds, 'ISOP', 2, 2, lats, lons, lev_idx=20)"
   ]
  },
  {
   "cell_type": "code",
   "execution_count": null,
   "metadata": {},
   "outputs": [],
   "source": [
    "map_plotter(ds, 'CLOUD', 2, 2, lats, lons, lev_idx=15)"
   ]
  },
  {
   "cell_type": "code",
   "execution_count": null,
   "metadata": {},
   "outputs": [],
   "source": [
    "map_plotter(ds, 'T', 3, 3, lats, lons, lev_idx=8, cmap=mpl.cm.Spectral_r)"
   ]
  },
  {
   "cell_type": "markdown",
   "metadata": {},
   "source": [
    "## HoloViews (hvplot) & GeoViews\n",
    "\n",
    "### Exploring data of different dimensionality ranging from simple 1D data, to 2D image-like data, to multi-dimensional cubes of data"
   ]
  },
  {
   "cell_type": "markdown",
   "metadata": {},
   "source": [
    "For these examples we’ll use the CO2 data from standard monthly average WACCM output:"
   ]
  },
  {
   "cell_type": "code",
   "execution_count": null,
   "metadata": {},
   "outputs": [],
   "source": [
    "import hvplot.xarray\n",
    "import geoviews as gv"
   ]
  },
  {
   "cell_type": "code",
   "execution_count": null,
   "metadata": {},
   "outputs": [],
   "source": [
    "file_pattern = \"/glade/scratch/emmons/PYTHON_TUTORIAL/f.e21.FWHISTBgcCrop.f09_f09_mg17.CMIP6-AMIP-WACCM.001.cam.h0.2013-*.nc\"\n",
    "data_vars = ['CO2']\n",
    "ds1 = xr.open_mfdataset(file_pattern)\n",
    "drop_vars = set(ds1.data_vars) - set(data_vars)\n",
    "dset = ds1.drop(drop_vars).load()\n",
    "co2 = dset.CO2\n",
    "dset"
   ]
  },
  {
   "cell_type": "markdown",
   "metadata": {},
   "source": [
    "#### 1D Plots \n",
    "\n",
    "Selecting the data at a particular lat/lon coordinate we get a 1D dataset of CO2 over time:"
   ]
  },
  {
   "cell_type": "code",
   "execution_count": null,
   "metadata": {},
   "outputs": [],
   "source": [
    "co21d = co2.isel(lev=0, lat=10, lon=10)\n",
    "co21d.hvplot()"
   ]
  },
  {
   "cell_type": "markdown",
   "metadata": {},
   "source": [
    "Notice how the axes are already appropriately labeled, because xarray stores the metadata required. We can also further subselect the data and use * to overlay plots:"
   ]
  },
  {
   "cell_type": "code",
   "execution_count": null,
   "metadata": {},
   "outputs": [],
   "source": [
    "co21d.hvplot(color='purple') * co21d.hvplot.scatter(marker='o', color='blue', size=15)"
   ]
  },
  {
   "cell_type": "markdown",
   "metadata": {},
   "source": [
    "#### Selecting multiple \n",
    "If we select multiple coordinates along one axis and plot a chart type, the data will automatically be split by the coordinate:\n"
   ]
  },
  {
   "cell_type": "code",
   "execution_count": null,
   "metadata": {},
   "outputs": [],
   "source": [
    "co2.isel(lev=0, lon=100, lat=[14, 20, 30, 60]).hvplot.line()"
   ]
  },
  {
   "cell_type": "markdown",
   "metadata": {},
   "source": [
    "To plot a different relationship we can explicitly request to display the latitude along the y-axis and use the by keyword to color each longitude (or 'lon') differently:\n",
    "\n"
   ]
  },
  {
   "cell_type": "code",
   "execution_count": null,
   "metadata": {},
   "outputs": [],
   "source": [
    "co2.isel(time=0, lev=0, lon=[0, 50, 100, 120, 130]).hvplot.line(y='lat', by='lon')"
   ]
  },
  {
   "cell_type": "markdown",
   "metadata": {},
   "source": [
    "#### 2D Plots \n",
    "By default the `DataArray.hvplot()` method generates an image if the data is two-dimensional.\n"
   ]
  },
  {
   "cell_type": "code",
   "execution_count": null,
   "metadata": {},
   "outputs": [],
   "source": [
    "co22d = co2.isel(time=5, lev=0)\n",
    "co22d"
   ]
  },
  {
   "cell_type": "code",
   "execution_count": null,
   "metadata": {},
   "outputs": [],
   "source": [
    "co22d.hvplot(width=600)"
   ]
  },
  {
   "cell_type": "markdown",
   "metadata": {},
   "source": [
    "Alternatively we can also plot the same data using the `contour` and `contourf` methods, which provide a levels argument to control the number of iso-contours to draw:\n",
    "\n"
   ]
  },
  {
   "cell_type": "code",
   "execution_count": null,
   "metadata": {},
   "outputs": [],
   "source": [
    "co22d.hvplot.contour(width=600, levels=20) + co22d.hvplot.contourf(width=600, levels=8)"
   ]
  },
  {
   "cell_type": "markdown",
   "metadata": {},
   "source": [
    "#### n-D Plots \n",
    "However if the data has more than two dimensions it will default to a histogram without providing it further hints:\n",
    "\n"
   ]
  },
  {
   "cell_type": "code",
   "execution_count": null,
   "metadata": {},
   "outputs": [],
   "source": [
    "co2.hvplot()"
   ]
  },
  {
   "cell_type": "markdown",
   "metadata": {},
   "source": [
    "However we can tell it to apply a groupby along a particular dimension, allowing us to explore the data as images along that dimension with a slider:"
   ]
  },
  {
   "cell_type": "code",
   "execution_count": null,
   "metadata": {},
   "outputs": [],
   "source": [
    "co2.hvplot(groupby=['time', 'lev'], width=600, cmap=mpl.cm.Spectral)"
   ]
  },
  {
   "cell_type": "markdown",
   "metadata": {},
   "source": [
    "If we pick a different, lower dimensional plot type (such as a `line`) it will automatically apply a groupby over the remaining dimensions:"
   ]
  },
  {
   "cell_type": "code",
   "execution_count": null,
   "metadata": {},
   "outputs": [],
   "source": [
    "co2.hvplot.line()"
   ]
  },
  {
   "cell_type": "markdown",
   "metadata": {},
   "source": [
    "#### Statistical plots \n",
    "\n",
    "Statistical plots such as histograms, kernel-density estimates, or violin and box-whisker plots aggregate the data across one or more of the coordinate dimensions. For instance, plotting a KDE provides a summary of all the CO2 values but we can, once again, use the by keyword to view each selected latitude (or 'lat') separately:\n",
    "\n"
   ]
  },
  {
   "cell_type": "code",
   "execution_count": null,
   "metadata": {},
   "outputs": [],
   "source": [
    "co2.sel(lev=[1, 2], lat=[25, 50, 75, 85], method='nearest').hvplot.kde('CO2', by=['lev', 'lat'], alpha=0.5)"
   ]
  },
  {
   "cell_type": "code",
   "execution_count": null,
   "metadata": {},
   "outputs": [],
   "source": [
    "co2.sel(lev=[1, 2], lat=[25, 50, 75, 85], method='nearest').hvplot.hist('CO2', by=['lev', 'lat'], alpha=0.5)"
   ]
  },
  {
   "cell_type": "code",
   "execution_count": null,
   "metadata": {},
   "outputs": [],
   "source": [
    "co2.sel(lev=[1, 2], lat=[25, 50, 75, 85], method='nearest').hvplot.box('CO2', by=['lev', 'lat'], box_alpha=0.5)"
   ]
  },
  {
   "cell_type": "markdown",
   "metadata": {},
   "source": [
    "#### Geographic plots\n",
    "\n",
    "To declare a geographic plot we have to supply a `cartopy.crs.CRS` (or coordinate reference system). Coordinate reference systems are described in the [GeoViews documentation](http://geoviews.org/user_guide/Projections.html) and the full list of available CRSs is in the [cartopy documentation](https://scitools.org.uk/cartopy/docs/v0.15/crs/projections.html). \n",
    "Only certain hvPlot types support geographic coordinates, currently including: \n",
    "\n",
    "- `points`\n",
    "- `polygons`\n",
    "- `paths`\n",
    "- `image`\n",
    "- `quadmesh`\n",
    "- `contour`\n",
    "- `contourf`\n"
   ]
  },
  {
   "cell_type": "code",
   "execution_count": null,
   "metadata": {},
   "outputs": [],
   "source": [
    "co2.isel(lev=[10, 15]).hvplot.quadmesh(\n",
    "    'lon', 'lat', 'CO2', projection=ccrs.Orthographic(-90, 30),\n",
    "    global_extent=True, width=600, height=540, cmap=mpl.cm.Spectral, \n",
    "    dynamic=True, rasterize=True\n",
    ") * gv.feature.coastline\n"
   ]
  },
  {
   "cell_type": "code",
   "execution_count": null,
   "metadata": {},
   "outputs": [],
   "source": [
    "co2.isel(lev=[10, 15]).hvplot.contourf(\n",
    "    'lon', 'lat', 'CO2', crs=ccrs.PlateCarree(), projection=ccrs.PlateCarree(),\n",
    "    width=800, height=540, cmap=mpl.cm.Spectral, levels=8\n",
    ") * gv.feature.coastline\n"
   ]
  },
  {
   "cell_type": "code",
   "execution_count": null,
   "metadata": {},
   "outputs": [],
   "source": []
  }
 ],
 "metadata": {
  "kernelspec": {
   "display_name": "Python [conda env:acom-tutorial]",
   "language": "python",
   "name": "conda-env-acom-tutorial-py"
  },
  "language_info": {
   "codemirror_mode": {
    "name": "ipython",
    "version": 3
   },
   "file_extension": ".py",
   "mimetype": "text/x-python",
   "name": "python",
   "nbconvert_exporter": "python",
   "pygments_lexer": "ipython3",
   "version": "3.7.3"
  }
 },
 "nbformat": 4,
 "nbformat_minor": 2
}
