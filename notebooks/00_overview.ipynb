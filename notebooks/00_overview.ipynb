{
 "cells": [
  {
   "cell_type": "markdown",
   "metadata": {},
   "source": [
    "# Tutorial Preliminaries: Jupyter & Python"
   ]
  },
  {
   "cell_type": "markdown",
   "metadata": {
    "slideshow": {
     "slide_type": "slide"
    }
   },
   "source": [
    "---\n",
    "## Why Jupyter Notebooks (and Lab)?"
   ]
  },
  {
   "cell_type": "markdown",
   "metadata": {},
   "source": [
    "- How many of you are familiar with Jupyter Notebooks?\n",
    "\n",
    "- How many of you use Jupyter Notebooks on a daily basis?\n",
    "\n",
    "- Why not?\n",
    "\n",
    "- How do you interact with Cheyenne and Casper?  Describe your process."
   ]
  },
  {
   "cell_type": "markdown",
   "metadata": {},
   "source": [
    "### A typical process"
   ]
  },
  {
   "cell_type": "markdown",
   "metadata": {},
   "source": [
    "For most people, interaction with a supercomputer or cluster means:\n",
    "\n",
    "- Go to my terminal application\n",
    "- SSH into the remote machine (enabling X tunneling so I can use `ncview`, for example)\n",
    "- Type commands into my chosen shell (bash, csh, etc.)\n",
    "\n",
    "What's wrong with that process?  Nothing, but..."
   ]
  },
  {
   "cell_type": "markdown",
   "metadata": {},
   "source": [
    "### Graphics over X"
   ]
  },
  {
   "cell_type": "markdown",
   "metadata": {},
   "source": [
    "Graphics have to be communicated over your `ssh` connection using X.  If you were _not_ remote, X is fast.  Or, if you have access to an _X-accelerator_ (such as `fastX`), then X is (kinda) fast.  But if you are remote, and you aren't using an X-accelerator, then X is slow.  And painful.  Why?  Because X is communicating all of the information needed to display the \"X-window\" on your computer over the internet.  X was not designed for that, but..."
   ]
  },
  {
   "cell_type": "markdown",
   "metadata": {},
   "source": [
    "### HTML & Javascript"
   ]
  },
  {
   "cell_type": "markdown",
   "metadata": {},
   "source": [
    "HTML (and Javascript and serialization formats like JSON) _was_ designed for that.  It's what modern interactive (HTML3) websites use every day!  So, why not ditch X and use HTML?"
   ]
  },
  {
   "cell_type": "markdown",
   "metadata": {},
   "source": [
    "Well, you need a webserver to \"serve\" up your HTML content.  Where do you get a webserver to do that?"
   ]
  },
  {
   "cell_type": "markdown",
   "metadata": {},
   "source": [
    "### Jupyter"
   ]
  },
  {
   "cell_type": "markdown",
   "metadata": {},
   "source": [
    "Jupyter _is_ a webserver.  When you run it on your laptop (`jupyter notebook` or `jupyter lab`), you can directly interact with the webserver from your browser.  When you are remote, you just communicate HTML (and serialized data) back and forth from your browser to the webserver.  It's fast.  It's efficient."
   ]
  },
  {
   "cell_type": "markdown",
   "metadata": {},
   "source": [
    "JupyterHub allows for _multi-user_ sessions, in a safe and secure manor."
   ]
  },
  {
   "cell_type": "markdown",
   "metadata": {},
   "source": [
    "---\n",
    "## Why Python?"
   ]
  },
  {
   "cell_type": "markdown",
   "metadata": {},
   "source": [
    "Python is a _high-productivity_ language.  That means, it's designed (from the ground up) to do a lot with very little typing/code.  It's also designed to enforce readability."
   ]
  }
 ],
 "metadata": {
  "kernelspec": {
   "display_name": "Python 3",
   "language": "python",
   "name": "python3"
  },
  "language_info": {
   "codemirror_mode": {
    "name": "ipython",
    "version": 3
   },
   "file_extension": ".py",
   "mimetype": "text/x-python",
   "name": "python",
   "nbconvert_exporter": "python",
   "pygments_lexer": "ipython3",
   "version": "3.7.2"
  }
 },
 "nbformat": 4,
 "nbformat_minor": 2
}
